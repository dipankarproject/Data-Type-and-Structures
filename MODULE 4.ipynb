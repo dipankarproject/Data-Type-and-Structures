{
 "cells": [
  {
   "cell_type": "code",
   "execution_count": 1,
   "id": "afa38f40-9c2a-4342-94a3-354b80cdc8b1",
   "metadata": {},
   "outputs": [
    {
     "name": "stdout",
     "output_type": "stream",
     "text": [
      "Dipankar Singh\n"
     ]
    }
   ],
   "source": [
    "# 1. Create a string with your name and print it\n",
    "name = \"Dipankar Singh\"\n",
    "print(name)\n"
   ]
  },
  {
   "cell_type": "code",
   "execution_count": 2,
   "id": "28916707-9497-45d3-8044-1ba799cb43a6",
   "metadata": {},
   "outputs": [
    {
     "name": "stdout",
     "output_type": "stream",
     "text": [
      "11\n"
     ]
    }
   ],
   "source": [
    "# 2. Find the length of the string \"Hello World\"\n",
    "string_length = len(\"Hello World\")\n",
    "print(string_length)\n"
   ]
  },
  {
   "cell_type": "code",
   "execution_count": 3,
   "id": "cba75e04-5243-4ec4-b56c-b39a0e7fbf95",
   "metadata": {},
   "outputs": [
    {
     "name": "stdout",
     "output_type": "stream",
     "text": [
      "Pyt\n"
     ]
    }
   ],
   "source": [
    "# 3. Slice the first 3 characters from the string \"Python Programming\"\n",
    "sliced_string = \"Python Programming\"[:3]\n",
    "print(sliced_string)\n"
   ]
  },
  {
   "cell_type": "code",
   "execution_count": 4,
   "id": "7f600ed5-b643-410f-a60b-a2337e1c57ff",
   "metadata": {},
   "outputs": [
    {
     "name": "stdout",
     "output_type": "stream",
     "text": [
      "HELLO\n"
     ]
    }
   ],
   "source": [
    "# 4. Convert the string \"hello\" to uppercase\n",
    "uppercase_string = \"hello\".upper()\n",
    "print(uppercase_string)\n"
   ]
  },
  {
   "cell_type": "code",
   "execution_count": 5,
   "id": "80ddbf14-fda9-4324-a86c-2c5f49412148",
   "metadata": {},
   "outputs": [
    {
     "name": "stdout",
     "output_type": "stream",
     "text": [
      "I like orange\n"
     ]
    }
   ],
   "source": [
    "# 5. Replace the word \"apple\" with \"orange\" in the string \"I like apple\"\n",
    "replaced_string = \"I like apple\".replace(\"apple\", \"orange\")\n",
    "print(replaced_string)\n"
   ]
  },
  {
   "cell_type": "code",
   "execution_count": 6,
   "id": "92711213-6f32-4429-aeff-6bfb8ca4e5f2",
   "metadata": {},
   "outputs": [
    {
     "name": "stdout",
     "output_type": "stream",
     "text": [
      "[1, 2, 3, 4, 5]\n"
     ]
    }
   ],
   "source": [
    "# 6. Create a list with numbers 1 to 5 and print it\n",
    "number_list = [1, 2, 3, 4, 5]\n",
    "print(number_list)\n"
   ]
  },
  {
   "cell_type": "code",
   "execution_count": 7,
   "id": "09c06dd2-e941-4257-87da-28e3bfec1451",
   "metadata": {},
   "outputs": [
    {
     "name": "stdout",
     "output_type": "stream",
     "text": [
      "[1, 2, 3, 4, 10]\n"
     ]
    }
   ],
   "source": [
    "# 7. Append the number 10 to the list [1, 2, 3, 4]\n",
    "list1 = [1, 2, 3, 4]\n",
    "list1.append(10)\n",
    "print(list1)\n"
   ]
  },
  {
   "cell_type": "code",
   "execution_count": 8,
   "id": "719ed713-0a46-4f8c-bce3-1a34453d8000",
   "metadata": {},
   "outputs": [
    {
     "name": "stdout",
     "output_type": "stream",
     "text": [
      "[1, 2, 4, 5]\n"
     ]
    }
   ],
   "source": [
    "# 8. Remove the number 3 from the list [1, 2, 3, 4, 5]\n",
    "list2 = [1, 2, 3, 4, 5]\n",
    "list2.remove(3)\n",
    "print(list2)\n",
    "\n"
   ]
  },
  {
   "cell_type": "code",
   "execution_count": 9,
   "id": "813b41a0-ab54-4eba-a283-6eff8ebd57c2",
   "metadata": {},
   "outputs": [
    {
     "name": "stdout",
     "output_type": "stream",
     "text": [
      "b\n"
     ]
    }
   ],
   "source": [
    "# 9. Access the second element in the list ['a', 'b', 'c', 'd']\n",
    "list3 = ['a', 'b', 'c', 'd']\n",
    "print(list3[1])\n"
   ]
  },
  {
   "cell_type": "code",
   "execution_count": 10,
   "id": "3d1c727a-490c-4ee2-af48-e15f5c4153ba",
   "metadata": {},
   "outputs": [
    {
     "name": "stdout",
     "output_type": "stream",
     "text": [
      "[50, 40, 30, 20, 10]\n"
     ]
    }
   ],
   "source": [
    "# 10. Reverse the list [10, 20, 30, 40, 50]\n",
    "list4 = [10, 20, 30, 40, 50]\n",
    "list4.reverse()\n",
    "print(list4)"
   ]
  },
  {
   "cell_type": "code",
   "execution_count": 11,
   "id": "842169af-6613-4a38-b496-5a157236cc12",
   "metadata": {},
   "outputs": [
    {
     "name": "stdout",
     "output_type": "stream",
     "text": [
      "(100, 200, 300)\n"
     ]
    }
   ],
   "source": [
    "# 11. Create a tuple with the elements 100, 200, 300 and print it\n",
    "t = (100, 200, 300)\n",
    "print(t)"
   ]
  },
  {
   "cell_type": "code",
   "execution_count": 12,
   "id": "c55b6afe-1487-4d3b-a4c0-b57fe97520c2",
   "metadata": {},
   "outputs": [
    {
     "name": "stdout",
     "output_type": "stream",
     "text": [
      "blue\n"
     ]
    }
   ],
   "source": [
    "# 12. Access the second-to-last element of the tuple (‘red’, ‘green’, ‘blue’, ‘yellow’).\n",
    "colors = ('red', 'green', 'blue', 'yellow')\n",
    "print(colors[-2])"
   ]
  },
  {
   "cell_type": "code",
   "execution_count": 16,
   "id": "2fec6185-b22a-43bf-945d-b6989d019068",
   "metadata": {},
   "outputs": [
    {
     "name": "stdout",
     "output_type": "stream",
     "text": [
      "5\n"
     ]
    }
   ],
   "source": [
    "# 13. Find the minimum number in the tuple (10, 20, 5, 15).\n",
    "nums = (10, 20, 5, 15)\n",
    "print(min(nums))"
   ]
  },
  {
   "cell_type": "code",
   "execution_count": 17,
   "id": "30a8b573-131a-48a6-bb44-9663e14faa82",
   "metadata": {},
   "outputs": [
    {
     "name": "stdout",
     "output_type": "stream",
     "text": [
      "1\n"
     ]
    }
   ],
   "source": [
    "# 14. Find the index of the element \"cat\" in the tuple (‘dog’, ‘cat’, ‘rabbit’).\n",
    "animals = ('dog', 'cat', 'rabbit')\n",
    "print(animals.index('cat'))"
   ]
  },
  {
   "cell_type": "code",
   "execution_count": 19,
   "id": "90ce16a2-056e-4468-8777-080399b02b32",
   "metadata": {},
   "outputs": [
    {
     "ename": "SyntaxError",
     "evalue": "invalid non-printable character U+00A0 (1624472473.py, line 3)",
     "output_type": "error",
     "traceback": [
      "  \u001b[36mCell\u001b[39m\u001b[36m \u001b[39m\u001b[32mIn[19]\u001b[39m\u001b[32m, line 3\u001b[39m\n\u001b[31m    \u001b[39m\u001b[31mprint('kiwi' in fruits)\u001b[39m\n                ^\n\u001b[31mSyntaxError\u001b[39m\u001b[31m:\u001b[39m invalid non-printable character U+00A0\n"
     ]
    }
   ],
   "source": [
    "# 15. Create a tuple containing three different fruits and check if \"kiwi\" is in it.\n",
    "fruits = ('apple', 'banana', 'orange')\n",
    "print('kiwi' in fruits)"
   ]
  },
  {
   "cell_type": "code",
   "execution_count": 20,
   "id": "f7cbf74f-7b4f-4795-a7f9-cbc879a8090b",
   "metadata": {},
   "outputs": [
    {
     "name": "stdout",
     "output_type": "stream",
     "text": [
      "{'a', 'b', 'c'}\n"
     ]
    }
   ],
   "source": [
    "#16. Create a set with the elements ‘a’, ‘b’, ‘c’ and print it.\n",
    "s = {'a', 'b', 'c'}\n",
    "print(s)"
   ]
  },
  {
   "cell_type": "code",
   "execution_count": 21,
   "id": "d50e45bc-3336-4de9-97bf-f509ee2824cf",
   "metadata": {},
   "outputs": [
    {
     "name": "stdout",
     "output_type": "stream",
     "text": [
      "set()\n"
     ]
    }
   ],
   "source": [
    "# 17. Clear all elements from the set {1, 2, 3, 4, 5}.\n",
    "s = {1, 2, 3, 4, 5}\n",
    "s.clear()\n",
    "print(s)"
   ]
  },
  {
   "cell_type": "code",
   "execution_count": 22,
   "id": "f2d6477c-eb3b-41c6-a2f3-95baec91692f",
   "metadata": {},
   "outputs": [
    {
     "name": "stdout",
     "output_type": "stream",
     "text": [
      "{1, 2, 3}\n"
     ]
    }
   ],
   "source": [
    "# 18. Remove the element 4 from the set {1, 2, 3, 4}\n",
    "s = {1, 2, 3, 4}\n",
    "s.remove(4)\n",
    "print(s)"
   ]
  },
  {
   "cell_type": "code",
   "execution_count": 23,
   "id": "248e825f-9efb-4ce5-8705-44b720eec63a",
   "metadata": {},
   "outputs": [
    {
     "name": "stdout",
     "output_type": "stream",
     "text": [
      "{1, 2, 3, 4, 5}\n"
     ]
    }
   ],
   "source": [
    "# 19. Find the union of two sets {1, 2, 3} and {3, 4, 5}.\n",
    "a = {1, 2, 3}\n",
    "b = {3, 4, 5}\n",
    "print(a.union(b))"
   ]
  },
  {
   "cell_type": "code",
   "execution_count": 24,
   "id": "febda1a5-acf0-4b86-abc1-bc15c4d7aa98",
   "metadata": {},
   "outputs": [
    {
     "name": "stdout",
     "output_type": "stream",
     "text": [
      "{2, 3}\n"
     ]
    }
   ],
   "source": [
    "# 20. Find the intersection of two sets {1, 2, 3} and {2, 3, 4}.\n",
    "a = {1, 2, 3}\n",
    "b = {2, 3, 4}\n",
    "print(a.intersection(b))"
   ]
  },
  {
   "cell_type": "code",
   "execution_count": 26,
   "id": "c1e2f102-869b-4545-b6c6-dde6f79dc6d0",
   "metadata": {},
   "outputs": [
    {
     "name": "stdout",
     "output_type": "stream",
     "text": [
      "{'name': 'Alice', 'age': 30, 'city': 'New York'}\n"
     ]
    }
   ],
   "source": [
    "# 21. Create a dictionary with the keys “name”, “age”, and “city”, and print it.\n",
    "person = {\"name\": \"Alice\", \"age\": 30, \"city\": \"New York\"}\n",
    "print(person)"
   ]
  },
  {
   "cell_type": "code",
   "execution_count": 27,
   "id": "cf648119-4184-43bd-a08d-a745faa4d46d",
   "metadata": {},
   "outputs": [
    {
     "name": "stdout",
     "output_type": "stream",
     "text": [
      "{'name': 'John', 'age': 25, 'country': 'USA'}\n"
     ]
    }
   ],
   "source": [
    "# 22. Add a new key-value pair \"country\": \"USA\" to the dictionary {‘name’: ‘John’, ‘age’: 25}.\n",
    "person = {'name': 'John', 'age': 25}\n",
    "person['country'] = 'USA'\n",
    "print(person)\n"
   ]
  },
  {
   "cell_type": "code",
   "execution_count": 28,
   "id": "42d0d960-0a1b-4194-a563-fb1db5923c54",
   "metadata": {},
   "outputs": [
    {
     "name": "stdout",
     "output_type": "stream",
     "text": [
      "Alice\n"
     ]
    }
   ],
   "source": [
    "# 23. Access the value associated with the key \"name\" in the dictionary {‘name’: ‘Alice’, ‘age’: 30}.\n",
    "person = {'name': 'Alice', 'age': 30}\n",
    "print(person['name'])"
   ]
  },
  {
   "cell_type": "code",
   "execution_count": 29,
   "id": "02963b7a-5c47-42e8-9795-208b3fbb0407",
   "metadata": {},
   "outputs": [
    {
     "name": "stdout",
     "output_type": "stream",
     "text": [
      "{'name': 'Bob', 'city': 'New York'}\n"
     ]
    }
   ],
   "source": [
    "# 24. Remove the key \"age\" from the dictionary {‘name’: ‘Bob’, ‘age’: 22, ‘city’: ‘New York’}.\n",
    "person = {'name': 'Bob', 'age': 22, 'city': 'New York'}\n",
    "del person['age']\n",
    "print(person)"
   ]
  },
  {
   "cell_type": "code",
   "execution_count": 30,
   "id": "5b474e13-5067-4172-963a-064bc560e7a7",
   "metadata": {},
   "outputs": [
    {
     "ename": "SyntaxError",
     "evalue": "invalid non-printable character U+00A0 (3776191194.py, line 3)",
     "output_type": "error",
     "traceback": [
      "  \u001b[36mCell\u001b[39m\u001b[36m \u001b[39m\u001b[32mIn[30]\u001b[39m\u001b[32m, line 3\u001b[39m\n\u001b[31m    \u001b[39m\u001b[31mprint('city' in person)\u001b[39m\n                ^\n\u001b[31mSyntaxError\u001b[39m\u001b[31m:\u001b[39m invalid non-printable character U+00A0\n"
     ]
    }
   ],
   "source": [
    "# 25. Check if the key “city” exists in the dictionary {‘name’: ‘Alice’, ‘city’: ‘Paris’}.\n",
    "person = {'name': 'Alice', 'city': 'Paris'}\n",
    "print('city' in person)"
   ]
  },
  {
   "cell_type": "code",
   "execution_count": 31,
   "id": "0692fc11-c5d5-4570-890a-95694083c91e",
   "metadata": {},
   "outputs": [
    {
     "name": "stdout",
     "output_type": "stream",
     "text": [
      "[1, 2, 3]\n",
      "(4, 5, 6)\n",
      "{'a': 1, 'b': 2}\n"
     ]
    }
   ],
   "source": [
    "# 26. Create a list, a tuple, and a dictionary, and print them all.\n",
    "my_list = [1, 2, 3]\n",
    "my_tuple = (4, 5, 6)\n",
    "my_dict = {'a': 1, 'b': 2}\n",
    "print(my_list)\n",
    "print(my_tuple)\n",
    "print(my_dict)"
   ]
  },
  {
   "cell_type": "code",
   "execution_count": 32,
   "id": "196a47c6-208c-47c7-b4ba-33f3553434bd",
   "metadata": {},
   "outputs": [
    {
     "name": "stdout",
     "output_type": "stream",
     "text": [
      "[33, 45, 56, 69, 96]\n"
     ]
    }
   ],
   "source": [
    "# 27. Create a list of 5 random numbers between 1 and 100, sort it in ascending order, and print the result.\n",
    "import random\n",
    "nums = random.sample(range(1, 101), 5)\n",
    "nums.sort()\n",
    "print(nums)"
   ]
  },
  {
   "cell_type": "code",
   "execution_count": 33,
   "id": "4a37bc00-7b12-4129-ba69-f0d0dedcc81e",
   "metadata": {},
   "outputs": [
    {
     "name": "stdout",
     "output_type": "stream",
     "text": [
      "date\n"
     ]
    }
   ],
   "source": [
    "# 28. Create a list with strings and print the element at the third index.\n",
    "words = ['apple', 'banana', 'cherry', 'date', 'elderberry']\n",
    "print(words[3])"
   ]
  },
  {
   "cell_type": "code",
   "execution_count": 34,
   "id": "5f9b4db8-0c7e-4547-a344-b93b281612e5",
   "metadata": {},
   "outputs": [
    {
     "name": "stdout",
     "output_type": "stream",
     "text": [
      "{'a': 1, 'b': 2, 'c': 3, 'd': 4}\n"
     ]
    }
   ],
   "source": [
    "# 29. Combine two dictionaries into one and print the result.\n",
    "dict1 = {'a': 1, 'b': 2}\n",
    "dict2 = {'c': 3, 'd': 4}\n",
    "combined = {**dict1, **dict2}\n",
    "print(combined)"
   ]
  },
  {
   "cell_type": "code",
   "execution_count": 35,
   "id": "df28d555-9d94-4659-9569-63f8172634c8",
   "metadata": {},
   "outputs": [
    {
     "name": "stdout",
     "output_type": "stream",
     "text": [
      "{'apple', 'banana', 'cherry'}\n"
     ]
    }
   ],
   "source": [
    "# 30. Convert a list of strings into a set.\n",
    "words = ['apple', 'banana', 'apple', 'cherry']\n",
    "word_set = set(words)\n",
    "print(word_set)"
   ]
  },
  {
   "cell_type": "code",
   "execution_count": null,
   "id": "7e220bff-4bde-4768-8571-1ece7a051306",
   "metadata": {},
   "outputs": [],
   "source": []
  }
 ],
 "metadata": {
  "kernelspec": {
   "display_name": "Python 3 (ipykernel)",
   "language": "python",
   "name": "python3"
  },
  "language_info": {
   "codemirror_mode": {
    "name": "ipython",
    "version": 3
   },
   "file_extension": ".py",
   "mimetype": "text/x-python",
   "name": "python",
   "nbconvert_exporter": "python",
   "pygments_lexer": "ipython3",
   "version": "3.13.4"
  }
 },
 "nbformat": 4,
 "nbformat_minor": 5
}
